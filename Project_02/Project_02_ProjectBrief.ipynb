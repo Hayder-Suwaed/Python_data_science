{
 "cells": [
  {
   "cell_type": "markdown",
   "metadata": {},
   "source": [
    "# Project 2: Data Import - Working with Web APIs and JSON (Movies Dataset)"
   ]
  },
  {
   "cell_type": "markdown",
   "metadata": {},
   "source": [
    "## Importing Data from JSON files "
   ]
  },
  {
   "cell_type": "code",
   "execution_count": null,
   "metadata": {},
   "outputs": [],
   "source": [
    "import pandas as pd\n",
    "import json"
   ]
  },
  {
   "cell_type": "code",
   "execution_count": null,
   "metadata": {},
   "outputs": [],
   "source": [
    "with open(\"blockbusters.json\") as f:\n",
    "    data =json.load(f)"
   ]
  },
  {
   "cell_type": "code",
   "execution_count": null,
   "metadata": {},
   "outputs": [],
   "source": [
    "data"
   ]
  },
  {
   "cell_type": "code",
   "execution_count": null,
   "metadata": {},
   "outputs": [],
   "source": [
    "type(data)"
   ]
  },
  {
   "cell_type": "code",
   "execution_count": null,
   "metadata": {},
   "outputs": [],
   "source": [
    "len(data)"
   ]
  },
  {
   "cell_type": "code",
   "execution_count": null,
   "metadata": {},
   "outputs": [],
   "source": [
    "data[0]"
   ]
  },
  {
   "cell_type": "code",
   "execution_count": null,
   "metadata": {},
   "outputs": [],
   "source": [
    "df = pd.DataFrame(data)\n",
    "df"
   ]
  },
  {
   "cell_type": "code",
   "execution_count": null,
   "metadata": {},
   "outputs": [],
   "source": [
    "#df = pd.read_json(\"blockbusters.json\")\n",
    "#df"
   ]
  },
  {
   "cell_type": "code",
   "execution_count": null,
   "metadata": {},
   "outputs": [],
   "source": [
    "df.info()"
   ]
  },
  {
   "cell_type": "code",
   "execution_count": null,
   "metadata": {},
   "outputs": [],
   "source": [
    "df.genres[0]"
   ]
  },
  {
   "cell_type": "code",
   "execution_count": null,
   "metadata": {},
   "outputs": [],
   "source": [
    "df.belongs_to_collection[0]"
   ]
  },
  {
   "cell_type": "code",
   "execution_count": null,
   "metadata": {},
   "outputs": [],
   "source": [
    "pd.json_normalize(data = data, sep =\"_\")"
   ]
  },
  {
   "cell_type": "code",
   "execution_count": null,
   "metadata": {},
   "outputs": [],
   "source": [
    "pd.json_normalize(data = data, sep = \"_\").genres[0]"
   ]
  },
  {
   "cell_type": "code",
   "execution_count": null,
   "metadata": {},
   "outputs": [],
   "source": [
    "pd.json_normalize(data = data, record_path = \"genres\", meta = [\"title\", \"id\"], record_prefix = \"genre_\")"
   ]
  },
  {
   "cell_type": "markdown",
   "metadata": {},
   "source": [
    "## Working with APIs and JSON (Part1)"
   ]
  },
  {
   "cell_type": "code",
   "execution_count": 26,
   "metadata": {},
   "outputs": [],
   "source": [
    "api_key = \"api_key=d74d93d3d378e911d291bb12828f8518\""
   ]
  },
  {
   "cell_type": "code",
   "execution_count": 33,
   "metadata": {},
   "outputs": [],
   "source": [
    "import pandas as pd\n",
    "import requests\n",
    "pd.options.display.max_columns = 30"
   ]
  },
  {
   "cell_type": "code",
   "execution_count": 34,
   "metadata": {},
   "outputs": [],
   "source": [
    "movie_id = 140607"
   ]
  },
  {
   "cell_type": "code",
   "execution_count": 35,
   "metadata": {},
   "outputs": [
    {
     "data": {
      "text/plain": [
       "'https://api.themoviedb.org/3/movie/{}?'"
      ]
     },
     "execution_count": 35,
     "metadata": {},
     "output_type": "execute_result"
    }
   ],
   "source": [
    "movie_api = \"https://api.themoviedb.org/3/movie/{}?\"\n",
    "movie_api"
   ]
  },
  {
   "cell_type": "code",
   "execution_count": 36,
   "metadata": {},
   "outputs": [
    {
     "data": {
      "text/plain": [
       "'https://api.themoviedb.org/3/movie/140607?api_key=d74d93d3d378e911d291bb12828f8518'"
      ]
     },
     "execution_count": 36,
     "metadata": {},
     "output_type": "execute_result"
    }
   ],
   "source": [
    "url = movie_api.format(movie_id) + api_key\n",
    "url"
   ]
  },
  {
   "cell_type": "code",
   "execution_count": 39,
   "metadata": {},
   "outputs": [
    {
     "data": {
      "text/plain": [
       "<Response [200]>"
      ]
     },
     "execution_count": 39,
     "metadata": {},
     "output_type": "execute_result"
    }
   ],
   "source": [
    "r = requests.get(url)\n",
    "r\n"
   ]
  },
  {
   "cell_type": "code",
   "execution_count": 41,
   "metadata": {},
   "outputs": [],
   "source": [
    "data = r.json()\n"
   ]
  },
  {
   "cell_type": "code",
   "execution_count": 45,
   "metadata": {},
   "outputs": [
    {
     "data": {
      "text/plain": [
       "adult                                                                False\n",
       "backdrop_path                             /k6EOrckWFuz7I4z4wiRwz8zsj4H.jpg\n",
       "belongs_to_collection    {'id': 10, 'name': 'Star Wars Collection', 'po...\n",
       "budget                                                           245000000\n",
       "genres                   [{'id': 12, 'name': 'Adventure'}, {'id': 28, '...\n",
       "homepage                 http://www.starwars.com/films/star-wars-episod...\n",
       "id                                                                  140607\n",
       "imdb_id                                                          tt2488496\n",
       "original_language                                                       en\n",
       "original_title                                Star Wars: The Force Awakens\n",
       "overview                 Thirty years after defeating the Galactic Empi...\n",
       "popularity                                                           73.19\n",
       "poster_path                               /wqnLdwVXoBjKibFRR5U3y0aDUhs.jpg\n",
       "production_companies     [{'id': 1, 'logo_path': '/o86DbpburjxrqAzEDhXZ...\n",
       "production_countries     [{'iso_3166_1': 'US', 'name': 'United States o...\n",
       "release_date                                                    2015-12-15\n",
       "revenue                                                         2068223624\n",
       "runtime                                                                136\n",
       "spoken_languages         [{'english_name': 'English', 'iso_639_1': 'en'...\n",
       "status                                                            Released\n",
       "tagline                                      Every generation has a story.\n",
       "title                                         Star Wars: The Force Awakens\n",
       "video                                                                False\n",
       "vote_average                                                          7.32\n",
       "vote_count                                                           17178\n",
       "dtype: object"
      ]
     },
     "execution_count": 45,
     "metadata": {},
     "output_type": "execute_result"
    }
   ],
   "source": [
    "pd.Series(data)"
   ]
  },
  {
   "cell_type": "code",
   "execution_count": 48,
   "metadata": {},
   "outputs": [
    {
     "data": {
      "text/html": [
       "<div>\n",
       "<style scoped>\n",
       "    .dataframe tbody tr th:only-of-type {\n",
       "        vertical-align: middle;\n",
       "    }\n",
       "\n",
       "    .dataframe tbody tr th {\n",
       "        vertical-align: top;\n",
       "    }\n",
       "\n",
       "    .dataframe thead th {\n",
       "        text-align: right;\n",
       "    }\n",
       "</style>\n",
       "<table border=\"1\" class=\"dataframe\">\n",
       "  <thead>\n",
       "    <tr style=\"text-align: right;\">\n",
       "      <th></th>\n",
       "      <th>adult</th>\n",
       "      <th>backdrop_path</th>\n",
       "      <th>belongs_to_collection</th>\n",
       "      <th>budget</th>\n",
       "      <th>genres</th>\n",
       "      <th>homepage</th>\n",
       "      <th>id</th>\n",
       "      <th>imdb_id</th>\n",
       "      <th>original_language</th>\n",
       "      <th>original_title</th>\n",
       "      <th>overview</th>\n",
       "      <th>popularity</th>\n",
       "      <th>poster_path</th>\n",
       "      <th>production_companies</th>\n",
       "      <th>production_countries</th>\n",
       "      <th>release_date</th>\n",
       "      <th>revenue</th>\n",
       "      <th>runtime</th>\n",
       "      <th>spoken_languages</th>\n",
       "      <th>status</th>\n",
       "      <th>tagline</th>\n",
       "      <th>title</th>\n",
       "      <th>video</th>\n",
       "      <th>vote_average</th>\n",
       "      <th>vote_count</th>\n",
       "    </tr>\n",
       "  </thead>\n",
       "  <tbody>\n",
       "    <tr>\n",
       "      <th>0</th>\n",
       "      <td>False</td>\n",
       "      <td>/k6EOrckWFuz7I4z4wiRwz8zsj4H.jpg</td>\n",
       "      <td>{'id': 10, 'name': 'Star Wars Collection', 'po...</td>\n",
       "      <td>245000000</td>\n",
       "      <td>[{'id': 12, 'name': 'Adventure'}, {'id': 28, '...</td>\n",
       "      <td>http://www.starwars.com/films/star-wars-episod...</td>\n",
       "      <td>140607</td>\n",
       "      <td>tt2488496</td>\n",
       "      <td>en</td>\n",
       "      <td>Star Wars: The Force Awakens</td>\n",
       "      <td>Thirty years after defeating the Galactic Empi...</td>\n",
       "      <td>73.19</td>\n",
       "      <td>/wqnLdwVXoBjKibFRR5U3y0aDUhs.jpg</td>\n",
       "      <td>[{'id': 1, 'logo_path': '/o86DbpburjxrqAzEDhXZ...</td>\n",
       "      <td>[{'iso_3166_1': 'US', 'name': 'United States o...</td>\n",
       "      <td>2015-12-15</td>\n",
       "      <td>2068223624</td>\n",
       "      <td>136</td>\n",
       "      <td>[{'english_name': 'English', 'iso_639_1': 'en'...</td>\n",
       "      <td>Released</td>\n",
       "      <td>Every generation has a story.</td>\n",
       "      <td>Star Wars: The Force Awakens</td>\n",
       "      <td>False</td>\n",
       "      <td>7.32</td>\n",
       "      <td>17178</td>\n",
       "    </tr>\n",
       "  </tbody>\n",
       "</table>\n",
       "</div>"
      ],
      "text/plain": [
       "   adult                     backdrop_path  \\\n",
       "0  False  /k6EOrckWFuz7I4z4wiRwz8zsj4H.jpg   \n",
       "\n",
       "                               belongs_to_collection     budget  \\\n",
       "0  {'id': 10, 'name': 'Star Wars Collection', 'po...  245000000   \n",
       "\n",
       "                                              genres  \\\n",
       "0  [{'id': 12, 'name': 'Adventure'}, {'id': 28, '...   \n",
       "\n",
       "                                            homepage      id    imdb_id  \\\n",
       "0  http://www.starwars.com/films/star-wars-episod...  140607  tt2488496   \n",
       "\n",
       "  original_language                original_title  \\\n",
       "0                en  Star Wars: The Force Awakens   \n",
       "\n",
       "                                            overview popularity  \\\n",
       "0  Thirty years after defeating the Galactic Empi...      73.19   \n",
       "\n",
       "                        poster_path  \\\n",
       "0  /wqnLdwVXoBjKibFRR5U3y0aDUhs.jpg   \n",
       "\n",
       "                                production_companies  \\\n",
       "0  [{'id': 1, 'logo_path': '/o86DbpburjxrqAzEDhXZ...   \n",
       "\n",
       "                                production_countries release_date     revenue  \\\n",
       "0  [{'iso_3166_1': 'US', 'name': 'United States o...   2015-12-15  2068223624   \n",
       "\n",
       "  runtime                                   spoken_languages    status  \\\n",
       "0     136  [{'english_name': 'English', 'iso_639_1': 'en'...  Released   \n",
       "\n",
       "                         tagline                         title  video  \\\n",
       "0  Every generation has a story.  Star Wars: The Force Awakens  False   \n",
       "\n",
       "  vote_average vote_count  \n",
       "0         7.32      17178  "
      ]
     },
     "execution_count": 48,
     "metadata": {},
     "output_type": "execute_result"
    }
   ],
   "source": [
    "df = pd.Series(data).to_frame().T\n",
    "df"
   ]
  },
  {
   "cell_type": "code",
   "execution_count": 49,
   "metadata": {},
   "outputs": [
    {
     "data": {
      "text/html": [
       "<div>\n",
       "<style scoped>\n",
       "    .dataframe tbody tr th:only-of-type {\n",
       "        vertical-align: middle;\n",
       "    }\n",
       "\n",
       "    .dataframe tbody tr th {\n",
       "        vertical-align: top;\n",
       "    }\n",
       "\n",
       "    .dataframe thead th {\n",
       "        text-align: right;\n",
       "    }\n",
       "</style>\n",
       "<table border=\"1\" class=\"dataframe\">\n",
       "  <thead>\n",
       "    <tr style=\"text-align: right;\">\n",
       "      <th></th>\n",
       "      <th>adult</th>\n",
       "      <th>backdrop_path</th>\n",
       "      <th>budget</th>\n",
       "      <th>genres</th>\n",
       "      <th>homepage</th>\n",
       "      <th>id</th>\n",
       "      <th>imdb_id</th>\n",
       "      <th>original_language</th>\n",
       "      <th>original_title</th>\n",
       "      <th>overview</th>\n",
       "      <th>popularity</th>\n",
       "      <th>poster_path</th>\n",
       "      <th>production_companies</th>\n",
       "      <th>production_countries</th>\n",
       "      <th>release_date</th>\n",
       "      <th>revenue</th>\n",
       "      <th>runtime</th>\n",
       "      <th>spoken_languages</th>\n",
       "      <th>status</th>\n",
       "      <th>tagline</th>\n",
       "      <th>title</th>\n",
       "      <th>video</th>\n",
       "      <th>vote_average</th>\n",
       "      <th>vote_count</th>\n",
       "      <th>belongs_to_collection_id</th>\n",
       "      <th>belongs_to_collection_name</th>\n",
       "      <th>belongs_to_collection_poster_path</th>\n",
       "      <th>belongs_to_collection_backdrop_path</th>\n",
       "    </tr>\n",
       "  </thead>\n",
       "  <tbody>\n",
       "    <tr>\n",
       "      <th>0</th>\n",
       "      <td>False</td>\n",
       "      <td>/k6EOrckWFuz7I4z4wiRwz8zsj4H.jpg</td>\n",
       "      <td>245000000</td>\n",
       "      <td>[{'id': 12, 'name': 'Adventure'}, {'id': 28, '...</td>\n",
       "      <td>http://www.starwars.com/films/star-wars-episod...</td>\n",
       "      <td>140607</td>\n",
       "      <td>tt2488496</td>\n",
       "      <td>en</td>\n",
       "      <td>Star Wars: The Force Awakens</td>\n",
       "      <td>Thirty years after defeating the Galactic Empi...</td>\n",
       "      <td>73.19</td>\n",
       "      <td>/wqnLdwVXoBjKibFRR5U3y0aDUhs.jpg</td>\n",
       "      <td>[{'id': 1, 'logo_path': '/o86DbpburjxrqAzEDhXZ...</td>\n",
       "      <td>[{'iso_3166_1': 'US', 'name': 'United States o...</td>\n",
       "      <td>2015-12-15</td>\n",
       "      <td>2068223624</td>\n",
       "      <td>136</td>\n",
       "      <td>[{'english_name': 'English', 'iso_639_1': 'en'...</td>\n",
       "      <td>Released</td>\n",
       "      <td>Every generation has a story.</td>\n",
       "      <td>Star Wars: The Force Awakens</td>\n",
       "      <td>False</td>\n",
       "      <td>7.32</td>\n",
       "      <td>17178</td>\n",
       "      <td>10</td>\n",
       "      <td>Star Wars Collection</td>\n",
       "      <td>/gq5Wi7i4SF3lo4HHkJasDV95xI9.jpg</td>\n",
       "      <td>/d8duYyyC9J5T825Hg7grmaabfxQ.jpg</td>\n",
       "    </tr>\n",
       "  </tbody>\n",
       "</table>\n",
       "</div>"
      ],
      "text/plain": [
       "   adult                     backdrop_path     budget  \\\n",
       "0  False  /k6EOrckWFuz7I4z4wiRwz8zsj4H.jpg  245000000   \n",
       "\n",
       "                                              genres  \\\n",
       "0  [{'id': 12, 'name': 'Adventure'}, {'id': 28, '...   \n",
       "\n",
       "                                            homepage      id    imdb_id  \\\n",
       "0  http://www.starwars.com/films/star-wars-episod...  140607  tt2488496   \n",
       "\n",
       "  original_language                original_title  \\\n",
       "0                en  Star Wars: The Force Awakens   \n",
       "\n",
       "                                            overview  popularity  \\\n",
       "0  Thirty years after defeating the Galactic Empi...       73.19   \n",
       "\n",
       "                        poster_path  \\\n",
       "0  /wqnLdwVXoBjKibFRR5U3y0aDUhs.jpg   \n",
       "\n",
       "                                production_companies  \\\n",
       "0  [{'id': 1, 'logo_path': '/o86DbpburjxrqAzEDhXZ...   \n",
       "\n",
       "                                production_countries release_date     revenue  \\\n",
       "0  [{'iso_3166_1': 'US', 'name': 'United States o...   2015-12-15  2068223624   \n",
       "\n",
       "   runtime                                   spoken_languages    status  \\\n",
       "0      136  [{'english_name': 'English', 'iso_639_1': 'en'...  Released   \n",
       "\n",
       "                         tagline                         title  video  \\\n",
       "0  Every generation has a story.  Star Wars: The Force Awakens  False   \n",
       "\n",
       "   vote_average  vote_count  belongs_to_collection_id  \\\n",
       "0          7.32       17178                        10   \n",
       "\n",
       "  belongs_to_collection_name belongs_to_collection_poster_path  \\\n",
       "0       Star Wars Collection  /gq5Wi7i4SF3lo4HHkJasDV95xI9.jpg   \n",
       "\n",
       "  belongs_to_collection_backdrop_path  \n",
       "0    /d8duYyyC9J5T825Hg7grmaabfxQ.jpg  "
      ]
     },
     "execution_count": 49,
     "metadata": {},
     "output_type": "execute_result"
    }
   ],
   "source": [
    "pd.json_normalize(data, sep = \"_\")"
   ]
  },
  {
   "cell_type": "code",
   "execution_count": 58,
   "metadata": {},
   "outputs": [
    {
     "data": {
      "text/html": [
       "<div>\n",
       "<style scoped>\n",
       "    .dataframe tbody tr th:only-of-type {\n",
       "        vertical-align: middle;\n",
       "    }\n",
       "\n",
       "    .dataframe tbody tr th {\n",
       "        vertical-align: top;\n",
       "    }\n",
       "\n",
       "    .dataframe thead th {\n",
       "        text-align: right;\n",
       "    }\n",
       "</style>\n",
       "<table border=\"1\" class=\"dataframe\">\n",
       "  <thead>\n",
       "    <tr style=\"text-align: right;\">\n",
       "      <th></th>\n",
       "      <th>id</th>\n",
       "      <th>logo_path</th>\n",
       "      <th>name</th>\n",
       "      <th>origin_country</th>\n",
       "      <th>title</th>\n",
       "    </tr>\n",
       "  </thead>\n",
       "  <tbody>\n",
       "    <tr>\n",
       "      <th>0</th>\n",
       "      <td>1</td>\n",
       "      <td>/o86DbpburjxrqAzEDhXZcyE8pDb.png</td>\n",
       "      <td>Lucasfilm Ltd.</td>\n",
       "      <td>US</td>\n",
       "      <td>Star Wars: The Force Awakens</td>\n",
       "    </tr>\n",
       "    <tr>\n",
       "      <th>1</th>\n",
       "      <td>11461</td>\n",
       "      <td>/p9FoEt5shEKRWRKVIlvFaEmRnun.png</td>\n",
       "      <td>Bad Robot</td>\n",
       "      <td>US</td>\n",
       "      <td>Star Wars: The Force Awakens</td>\n",
       "    </tr>\n",
       "  </tbody>\n",
       "</table>\n",
       "</div>"
      ],
      "text/plain": [
       "      id                         logo_path            name origin_country  \\\n",
       "0      1  /o86DbpburjxrqAzEDhXZcyE8pDb.png  Lucasfilm Ltd.             US   \n",
       "1  11461  /p9FoEt5shEKRWRKVIlvFaEmRnun.png       Bad Robot             US   \n",
       "\n",
       "                          title  \n",
       "0  Star Wars: The Force Awakens  \n",
       "1  Star Wars: The Force Awakens  "
      ]
     },
     "execution_count": 58,
     "metadata": {},
     "output_type": "execute_result"
    }
   ],
   "source": [
    "pd.json_normalize(data = data, record_path = \"production_companies\", meta = \"title\")"
   ]
  },
  {
   "cell_type": "markdown",
   "metadata": {},
   "source": [
    "## Working with APIs and JSON (Part2)"
   ]
  },
  {
   "cell_type": "code",
   "execution_count": 59,
   "metadata": {},
   "outputs": [],
   "source": [
    "discover_api = \"https://api.themoviedb.org/3/discover/movie?\""
   ]
  },
  {
   "cell_type": "code",
   "execution_count": 72,
   "metadata": {},
   "outputs": [],
   "source": [
    "query = \"&primary_release_date.gte=2020-01-01&prmary_release_date.lte=2020-02-29&page=2\""
   ]
  },
  {
   "cell_type": "code",
   "execution_count": 73,
   "metadata": {},
   "outputs": [],
   "source": [
    "url = discover_api+api_key+query"
   ]
  },
  {
   "cell_type": "code",
   "execution_count": 68,
   "metadata": {},
   "outputs": [],
   "source": [
    "data = requests.get(url).json()"
   ]
  },
  {
   "cell_type": "code",
   "execution_count": 69,
   "metadata": {},
   "outputs": [
    {
     "data": {
      "text/html": [
       "<div>\n",
       "<style scoped>\n",
       "    .dataframe tbody tr th:only-of-type {\n",
       "        vertical-align: middle;\n",
       "    }\n",
       "\n",
       "    .dataframe tbody tr th {\n",
       "        vertical-align: top;\n",
       "    }\n",
       "\n",
       "    .dataframe thead th {\n",
       "        text-align: right;\n",
       "    }\n",
       "</style>\n",
       "<table border=\"1\" class=\"dataframe\">\n",
       "  <thead>\n",
       "    <tr style=\"text-align: right;\">\n",
       "      <th></th>\n",
       "      <th>page</th>\n",
       "      <th>results</th>\n",
       "      <th>total_pages</th>\n",
       "      <th>total_results</th>\n",
       "    </tr>\n",
       "  </thead>\n",
       "  <tbody>\n",
       "    <tr>\n",
       "      <th>0</th>\n",
       "      <td>1</td>\n",
       "      <td>{'adult': False, 'backdrop_path': '/698FjyzLdp...</td>\n",
       "      <td>3708</td>\n",
       "      <td>74141</td>\n",
       "    </tr>\n",
       "    <tr>\n",
       "      <th>1</th>\n",
       "      <td>1</td>\n",
       "      <td>{'adult': False, 'backdrop_path': '/qTkJ6kbTeS...</td>\n",
       "      <td>3708</td>\n",
       "      <td>74141</td>\n",
       "    </tr>\n",
       "    <tr>\n",
       "      <th>2</th>\n",
       "      <td>1</td>\n",
       "      <td>{'adult': False, 'backdrop_path': '/odJ4hx6g6v...</td>\n",
       "      <td>3708</td>\n",
       "      <td>74141</td>\n",
       "    </tr>\n",
       "    <tr>\n",
       "      <th>3</th>\n",
       "      <td>1</td>\n",
       "      <td>{'adult': False, 'backdrop_path': '/p1F51Lvj3s...</td>\n",
       "      <td>3708</td>\n",
       "      <td>74141</td>\n",
       "    </tr>\n",
       "    <tr>\n",
       "      <th>4</th>\n",
       "      <td>1</td>\n",
       "      <td>{'adult': False, 'backdrop_path': '/nW5fUbldp1...</td>\n",
       "      <td>3708</td>\n",
       "      <td>74141</td>\n",
       "    </tr>\n",
       "    <tr>\n",
       "      <th>5</th>\n",
       "      <td>1</td>\n",
       "      <td>{'adult': False, 'backdrop_path': '/AfvIjhDu9p...</td>\n",
       "      <td>3708</td>\n",
       "      <td>74141</td>\n",
       "    </tr>\n",
       "    <tr>\n",
       "      <th>6</th>\n",
       "      <td>1</td>\n",
       "      <td>{'adult': False, 'backdrop_path': '/wcKFYIiVDv...</td>\n",
       "      <td>3708</td>\n",
       "      <td>74141</td>\n",
       "    </tr>\n",
       "    <tr>\n",
       "      <th>7</th>\n",
       "      <td>1</td>\n",
       "      <td>{'adult': False, 'backdrop_path': '/5PnypKiSj2...</td>\n",
       "      <td>3708</td>\n",
       "      <td>74141</td>\n",
       "    </tr>\n",
       "    <tr>\n",
       "      <th>8</th>\n",
       "      <td>1</td>\n",
       "      <td>{'adult': False, 'backdrop_path': '/6d1mHKcozT...</td>\n",
       "      <td>3708</td>\n",
       "      <td>74141</td>\n",
       "    </tr>\n",
       "    <tr>\n",
       "      <th>9</th>\n",
       "      <td>1</td>\n",
       "      <td>{'adult': False, 'backdrop_path': '/3EaCqZdbY2...</td>\n",
       "      <td>3708</td>\n",
       "      <td>74141</td>\n",
       "    </tr>\n",
       "    <tr>\n",
       "      <th>10</th>\n",
       "      <td>1</td>\n",
       "      <td>{'adult': False, 'backdrop_path': '/wNQpfAZkyS...</td>\n",
       "      <td>3708</td>\n",
       "      <td>74141</td>\n",
       "    </tr>\n",
       "    <tr>\n",
       "      <th>11</th>\n",
       "      <td>1</td>\n",
       "      <td>{'adult': False, 'backdrop_path': '/jazlkwXfw4...</td>\n",
       "      <td>3708</td>\n",
       "      <td>74141</td>\n",
       "    </tr>\n",
       "    <tr>\n",
       "      <th>12</th>\n",
       "      <td>1</td>\n",
       "      <td>{'adult': False, 'backdrop_path': '/h6XfgbzQEV...</td>\n",
       "      <td>3708</td>\n",
       "      <td>74141</td>\n",
       "    </tr>\n",
       "    <tr>\n",
       "      <th>13</th>\n",
       "      <td>1</td>\n",
       "      <td>{'adult': False, 'backdrop_path': '/egoyMDLqCx...</td>\n",
       "      <td>3708</td>\n",
       "      <td>74141</td>\n",
       "    </tr>\n",
       "    <tr>\n",
       "      <th>14</th>\n",
       "      <td>1</td>\n",
       "      <td>{'adult': False, 'backdrop_path': '/ocUp7DJBIc...</td>\n",
       "      <td>3708</td>\n",
       "      <td>74141</td>\n",
       "    </tr>\n",
       "    <tr>\n",
       "      <th>15</th>\n",
       "      <td>1</td>\n",
       "      <td>{'adult': False, 'backdrop_path': '/wUwizGzbTk...</td>\n",
       "      <td>3708</td>\n",
       "      <td>74141</td>\n",
       "    </tr>\n",
       "    <tr>\n",
       "      <th>16</th>\n",
       "      <td>1</td>\n",
       "      <td>{'adult': False, 'backdrop_path': '/33qGtN2GpG...</td>\n",
       "      <td>3708</td>\n",
       "      <td>74141</td>\n",
       "    </tr>\n",
       "    <tr>\n",
       "      <th>17</th>\n",
       "      <td>1</td>\n",
       "      <td>{'adult': False, 'backdrop_path': '/mTupUmnuww...</td>\n",
       "      <td>3708</td>\n",
       "      <td>74141</td>\n",
       "    </tr>\n",
       "    <tr>\n",
       "      <th>18</th>\n",
       "      <td>1</td>\n",
       "      <td>{'adult': False, 'backdrop_path': '/t9K8ycUBCp...</td>\n",
       "      <td>3708</td>\n",
       "      <td>74141</td>\n",
       "    </tr>\n",
       "    <tr>\n",
       "      <th>19</th>\n",
       "      <td>1</td>\n",
       "      <td>{'adult': False, 'backdrop_path': '/t0mwKhUDa6...</td>\n",
       "      <td>3708</td>\n",
       "      <td>74141</td>\n",
       "    </tr>\n",
       "  </tbody>\n",
       "</table>\n",
       "</div>"
      ],
      "text/plain": [
       "    page                                            results  total_pages  \\\n",
       "0      1  {'adult': False, 'backdrop_path': '/698FjyzLdp...         3708   \n",
       "1      1  {'adult': False, 'backdrop_path': '/qTkJ6kbTeS...         3708   \n",
       "2      1  {'adult': False, 'backdrop_path': '/odJ4hx6g6v...         3708   \n",
       "3      1  {'adult': False, 'backdrop_path': '/p1F51Lvj3s...         3708   \n",
       "4      1  {'adult': False, 'backdrop_path': '/nW5fUbldp1...         3708   \n",
       "5      1  {'adult': False, 'backdrop_path': '/AfvIjhDu9p...         3708   \n",
       "6      1  {'adult': False, 'backdrop_path': '/wcKFYIiVDv...         3708   \n",
       "7      1  {'adult': False, 'backdrop_path': '/5PnypKiSj2...         3708   \n",
       "8      1  {'adult': False, 'backdrop_path': '/6d1mHKcozT...         3708   \n",
       "9      1  {'adult': False, 'backdrop_path': '/3EaCqZdbY2...         3708   \n",
       "10     1  {'adult': False, 'backdrop_path': '/wNQpfAZkyS...         3708   \n",
       "11     1  {'adult': False, 'backdrop_path': '/jazlkwXfw4...         3708   \n",
       "12     1  {'adult': False, 'backdrop_path': '/h6XfgbzQEV...         3708   \n",
       "13     1  {'adult': False, 'backdrop_path': '/egoyMDLqCx...         3708   \n",
       "14     1  {'adult': False, 'backdrop_path': '/ocUp7DJBIc...         3708   \n",
       "15     1  {'adult': False, 'backdrop_path': '/wUwizGzbTk...         3708   \n",
       "16     1  {'adult': False, 'backdrop_path': '/33qGtN2GpG...         3708   \n",
       "17     1  {'adult': False, 'backdrop_path': '/mTupUmnuww...         3708   \n",
       "18     1  {'adult': False, 'backdrop_path': '/t9K8ycUBCp...         3708   \n",
       "19     1  {'adult': False, 'backdrop_path': '/t0mwKhUDa6...         3708   \n",
       "\n",
       "    total_results  \n",
       "0           74141  \n",
       "1           74141  \n",
       "2           74141  \n",
       "3           74141  \n",
       "4           74141  \n",
       "5           74141  \n",
       "6           74141  \n",
       "7           74141  \n",
       "8           74141  \n",
       "9           74141  \n",
       "10          74141  \n",
       "11          74141  \n",
       "12          74141  \n",
       "13          74141  \n",
       "14          74141  \n",
       "15          74141  \n",
       "16          74141  \n",
       "17          74141  \n",
       "18          74141  \n",
       "19          74141  "
      ]
     },
     "execution_count": 69,
     "metadata": {},
     "output_type": "execute_result"
    }
   ],
   "source": [
    "pd.DataFrame(data)"
   ]
  },
  {
   "cell_type": "code",
   "execution_count": 71,
   "metadata": {},
   "outputs": [
    {
     "data": {
      "text/html": [
       "<div>\n",
       "<style scoped>\n",
       "    .dataframe tbody tr th:only-of-type {\n",
       "        vertical-align: middle;\n",
       "    }\n",
       "\n",
       "    .dataframe tbody tr th {\n",
       "        vertical-align: top;\n",
       "    }\n",
       "\n",
       "    .dataframe thead th {\n",
       "        text-align: right;\n",
       "    }\n",
       "</style>\n",
       "<table border=\"1\" class=\"dataframe\">\n",
       "  <thead>\n",
       "    <tr style=\"text-align: right;\">\n",
       "      <th></th>\n",
       "      <th>adult</th>\n",
       "      <th>backdrop_path</th>\n",
       "      <th>genre_ids</th>\n",
       "      <th>id</th>\n",
       "      <th>original_language</th>\n",
       "      <th>original_title</th>\n",
       "      <th>overview</th>\n",
       "      <th>popularity</th>\n",
       "      <th>poster_path</th>\n",
       "      <th>release_date</th>\n",
       "      <th>title</th>\n",
       "      <th>video</th>\n",
       "      <th>vote_average</th>\n",
       "      <th>vote_count</th>\n",
       "    </tr>\n",
       "  </thead>\n",
       "  <tbody>\n",
       "    <tr>\n",
       "      <th>0</th>\n",
       "      <td>False</td>\n",
       "      <td>/698FjyzLdpgXmUSr63LaRwblTmx.jpg</td>\n",
       "      <td>[12, 28, 878]</td>\n",
       "      <td>507086</td>\n",
       "      <td>en</td>\n",
       "      <td>Jurassic World Dominion</td>\n",
       "      <td>Four years after Isla Nublar was destroyed, di...</td>\n",
       "      <td>12339.130</td>\n",
       "      <td>/kAVRgw7GgK1CfYEJq8ME6EvRIgU.jpg</td>\n",
       "      <td>2022-06-01</td>\n",
       "      <td>Jurassic World Dominion</td>\n",
       "      <td>False</td>\n",
       "      <td>7.0</td>\n",
       "      <td>2008</td>\n",
       "    </tr>\n",
       "    <tr>\n",
       "      <th>1</th>\n",
       "      <td>False</td>\n",
       "      <td>/qTkJ6kbTeSjqfHCFCmWnfWZJOtm.jpg</td>\n",
       "      <td>[10751, 16, 12, 35, 14]</td>\n",
       "      <td>438148</td>\n",
       "      <td>en</td>\n",
       "      <td>Minions: The Rise of Gru</td>\n",
       "      <td>A fanboy of a supervillain supergroup known as...</td>\n",
       "      <td>10171.619</td>\n",
       "      <td>/wKiOkZTN9lUUUNZLmtnwubZYONg.jpg</td>\n",
       "      <td>2022-06-29</td>\n",
       "      <td>Minions: The Rise of Gru</td>\n",
       "      <td>False</td>\n",
       "      <td>7.5</td>\n",
       "      <td>482</td>\n",
       "    </tr>\n",
       "    <tr>\n",
       "      <th>2</th>\n",
       "      <td>False</td>\n",
       "      <td>/odJ4hx6g6vBt4lBWKFD1tI8WS4x.jpg</td>\n",
       "      <td>[28, 18]</td>\n",
       "      <td>361743</td>\n",
       "      <td>en</td>\n",
       "      <td>Top Gun: Maverick</td>\n",
       "      <td>After more than thirty years of service as one...</td>\n",
       "      <td>9026.760</td>\n",
       "      <td>/62HCnUTziyWcpDaBO2i1DX17ljH.jpg</td>\n",
       "      <td>2022-05-24</td>\n",
       "      <td>Top Gun: Maverick</td>\n",
       "      <td>False</td>\n",
       "      <td>8.4</td>\n",
       "      <td>1676</td>\n",
       "    </tr>\n",
       "    <tr>\n",
       "      <th>3</th>\n",
       "      <td>False</td>\n",
       "      <td>/p1F51Lvj3sMopG948F5HsBbl43C.jpg</td>\n",
       "      <td>[28, 12, 14]</td>\n",
       "      <td>616037</td>\n",
       "      <td>en</td>\n",
       "      <td>Thor: Love and Thunder</td>\n",
       "      <td>After his retirement is interrupted by Gorr th...</td>\n",
       "      <td>6265.822</td>\n",
       "      <td>/pIkRyD18kl4FhoCNQuWxWu5cBLM.jpg</td>\n",
       "      <td>2022-07-06</td>\n",
       "      <td>Thor: Love and Thunder</td>\n",
       "      <td>False</td>\n",
       "      <td>6.7</td>\n",
       "      <td>1275</td>\n",
       "    </tr>\n",
       "    <tr>\n",
       "      <th>4</th>\n",
       "      <td>False</td>\n",
       "      <td>/nW5fUbldp1DYf2uQ3zJTUdachOu.jpg</td>\n",
       "      <td>[16, 878, 12, 28, 10751]</td>\n",
       "      <td>718789</td>\n",
       "      <td>en</td>\n",
       "      <td>Lightyear</td>\n",
       "      <td>Legendary Space Ranger Buzz Lightyear embarks ...</td>\n",
       "      <td>6339.095</td>\n",
       "      <td>/ox4goZd956BxqJH6iLwhWPL9ct4.jpg</td>\n",
       "      <td>2022-06-15</td>\n",
       "      <td>Lightyear</td>\n",
       "      <td>False</td>\n",
       "      <td>7.3</td>\n",
       "      <td>946</td>\n",
       "    </tr>\n",
       "  </tbody>\n",
       "</table>\n",
       "</div>"
      ],
      "text/plain": [
       "   adult                     backdrop_path                 genre_ids      id  \\\n",
       "0  False  /698FjyzLdpgXmUSr63LaRwblTmx.jpg             [12, 28, 878]  507086   \n",
       "1  False  /qTkJ6kbTeSjqfHCFCmWnfWZJOtm.jpg   [10751, 16, 12, 35, 14]  438148   \n",
       "2  False  /odJ4hx6g6vBt4lBWKFD1tI8WS4x.jpg                  [28, 18]  361743   \n",
       "3  False  /p1F51Lvj3sMopG948F5HsBbl43C.jpg              [28, 12, 14]  616037   \n",
       "4  False  /nW5fUbldp1DYf2uQ3zJTUdachOu.jpg  [16, 878, 12, 28, 10751]  718789   \n",
       "\n",
       "  original_language            original_title  \\\n",
       "0                en   Jurassic World Dominion   \n",
       "1                en  Minions: The Rise of Gru   \n",
       "2                en         Top Gun: Maverick   \n",
       "3                en    Thor: Love and Thunder   \n",
       "4                en                 Lightyear   \n",
       "\n",
       "                                            overview  popularity  \\\n",
       "0  Four years after Isla Nublar was destroyed, di...   12339.130   \n",
       "1  A fanboy of a supervillain supergroup known as...   10171.619   \n",
       "2  After more than thirty years of service as one...    9026.760   \n",
       "3  After his retirement is interrupted by Gorr th...    6265.822   \n",
       "4  Legendary Space Ranger Buzz Lightyear embarks ...    6339.095   \n",
       "\n",
       "                        poster_path release_date                     title  \\\n",
       "0  /kAVRgw7GgK1CfYEJq8ME6EvRIgU.jpg   2022-06-01   Jurassic World Dominion   \n",
       "1  /wKiOkZTN9lUUUNZLmtnwubZYONg.jpg   2022-06-29  Minions: The Rise of Gru   \n",
       "2  /62HCnUTziyWcpDaBO2i1DX17ljH.jpg   2022-05-24         Top Gun: Maverick   \n",
       "3  /pIkRyD18kl4FhoCNQuWxWu5cBLM.jpg   2022-07-06    Thor: Love and Thunder   \n",
       "4  /ox4goZd956BxqJH6iLwhWPL9ct4.jpg   2022-06-15                 Lightyear   \n",
       "\n",
       "   video  vote_average  vote_count  \n",
       "0  False           7.0        2008  \n",
       "1  False           7.5         482  \n",
       "2  False           8.4        1676  \n",
       "3  False           6.7        1275  \n",
       "4  False           7.3         946  "
      ]
     },
     "execution_count": 71,
     "metadata": {},
     "output_type": "execute_result"
    }
   ],
   "source": [
    "pd.DataFrame(data[\"results\"]).head()"
   ]
  },
  {
   "cell_type": "code",
   "execution_count": null,
   "metadata": {},
   "outputs": [],
   "source": []
  }
 ],
 "metadata": {
  "kernelspec": {
   "display_name": "Python 3",
   "language": "python",
   "name": "python3"
  },
  "language_info": {
   "codemirror_mode": {
    "name": "ipython",
    "version": 3
   },
   "file_extension": ".py",
   "mimetype": "text/x-python",
   "name": "python",
   "nbconvert_exporter": "python",
   "pygments_lexer": "ipython3",
   "version": "3.8.8"
  }
 },
 "nbformat": 4,
 "nbformat_minor": 2
}
