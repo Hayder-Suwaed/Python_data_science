{
 "cells": [
  {
   "cell_type": "markdown",
   "metadata": {},
   "source": [
    "# Project 2: Data Import - Working with Web APIs and JSON (Movies Dataset)"
   ]
  },
  {
   "cell_type": "markdown",
   "metadata": {},
   "source": [
    "## Importing Data from JSON files "
   ]
  },
  {
   "cell_type": "code",
   "execution_count": 2,
   "metadata": {},
   "outputs": [],
   "source": [
    "import pandas as pd\n",
    "import json"
   ]
  },
  {
   "cell_type": "code",
   "execution_count": 3,
   "metadata": {},
   "outputs": [],
   "source": [
    "with open(\"blockbusters.json\") as f:\n",
    "    data =json.load(f)"
   ]
  },
  {
   "cell_type": "code",
   "execution_count": 29,
   "metadata": {},
   "outputs": [],
   "source": [
    "data"
   ]
  },
  {
   "cell_type": "code",
   "execution_count": 5,
   "metadata": {},
   "outputs": [
    {
     "data": {
      "text/plain": [
       "list"
      ]
     },
     "execution_count": 5,
     "metadata": {},
     "output_type": "execute_result"
    }
   ],
   "source": [
    "type(data)"
   ]
  },
  {
   "cell_type": "code",
   "execution_count": 6,
   "metadata": {},
   "outputs": [
    {
     "data": {
      "text/plain": [
       "18"
      ]
     },
     "execution_count": 6,
     "metadata": {},
     "output_type": "execute_result"
    }
   ],
   "source": [
    "len(data)"
   ]
  },
  {
   "cell_type": "code",
   "execution_count": 7,
   "metadata": {},
   "outputs": [
    {
     "data": {
      "text/plain": [
       "{'title': 'Avengers: Endgame',\n",
       " 'id': 299534,\n",
       " 'revenue': 2797800564,\n",
       " 'genres': [{'id': 12, 'name': 'Adventure'},\n",
       "  {'id': 878, 'name': 'Science Fiction'},\n",
       "  {'id': 28, 'name': 'Action'}],\n",
       " 'belongs_to_collection': {'id': 86311,\n",
       "  'name': 'The Avengers Collection',\n",
       "  'poster_path': '/yFSIUVTCvgYrpalUktulvk3Gi5Y.jpg',\n",
       "  'backdrop_path': '/zuW6fOiusv4X9nnW3paHGfXcSll.jpg'},\n",
       " 'runtime': 181}"
      ]
     },
     "execution_count": 7,
     "metadata": {},
     "output_type": "execute_result"
    }
   ],
   "source": [
    "data[0]"
   ]
  },
  {
   "cell_type": "code",
   "execution_count": 30,
   "metadata": {},
   "outputs": [],
   "source": [
    "df = pd.DataFrame(data)\n",
    "df"
   ]
  },
  {
   "cell_type": "code",
   "execution_count": 11,
   "metadata": {},
   "outputs": [],
   "source": [
    "#df = pd.read_json(\"blockbusters.json\")\n",
    "#df"
   ]
  },
  {
   "cell_type": "code",
   "execution_count": 13,
   "metadata": {},
   "outputs": [
    {
     "name": "stdout",
     "output_type": "stream",
     "text": [
      "<class 'pandas.core.frame.DataFrame'>\n",
      "RangeIndex: 18 entries, 0 to 17\n",
      "Data columns (total 6 columns):\n",
      " #   Column                 Non-Null Count  Dtype \n",
      "---  ------                 --------------  ----- \n",
      " 0   title                  18 non-null     object\n",
      " 1   id                     18 non-null     int64 \n",
      " 2   revenue                18 non-null     int64 \n",
      " 3   genres                 18 non-null     object\n",
      " 4   belongs_to_collection  15 non-null     object\n",
      " 5   runtime                18 non-null     int64 \n",
      "dtypes: int64(3), object(3)\n",
      "memory usage: 992.0+ bytes\n"
     ]
    }
   ],
   "source": [
    "df.info()"
   ]
  },
  {
   "cell_type": "code",
   "execution_count": 18,
   "metadata": {},
   "outputs": [
    {
     "data": {
      "text/plain": [
       "[{'id': 12, 'name': 'Adventure'},\n",
       " {'id': 878, 'name': 'Science Fiction'},\n",
       " {'id': 28, 'name': 'Action'}]"
      ]
     },
     "execution_count": 18,
     "metadata": {},
     "output_type": "execute_result"
    }
   ],
   "source": [
    "df.genres[0]"
   ]
  },
  {
   "cell_type": "code",
   "execution_count": 22,
   "metadata": {},
   "outputs": [
    {
     "data": {
      "text/plain": [
       "{'id': 86311,\n",
       " 'name': 'The Avengers Collection',\n",
       " 'poster_path': '/yFSIUVTCvgYrpalUktulvk3Gi5Y.jpg',\n",
       " 'backdrop_path': '/zuW6fOiusv4X9nnW3paHGfXcSll.jpg'}"
      ]
     },
     "execution_count": 22,
     "metadata": {},
     "output_type": "execute_result"
    }
   ],
   "source": [
    "df.belongs_to_collection[0]"
   ]
  },
  {
   "cell_type": "code",
   "execution_count": 31,
   "metadata": {},
   "outputs": [],
   "source": [
    "pd.json_normalize(data = data, sep =\"_\")"
   ]
  },
  {
   "cell_type": "code",
   "execution_count": 24,
   "metadata": {},
   "outputs": [
    {
     "data": {
      "text/plain": [
       "[{'id': 12, 'name': 'Adventure'},\n",
       " {'id': 878, 'name': 'Science Fiction'},\n",
       " {'id': 28, 'name': 'Action'}]"
      ]
     },
     "execution_count": 24,
     "metadata": {},
     "output_type": "execute_result"
    }
   ],
   "source": [
    "pd.json_normalize(data = data, sep = \"_\").genres[0]"
   ]
  },
  {
   "cell_type": "code",
   "execution_count": 28,
   "metadata": {},
   "outputs": [
    {
     "data": {
      "text/html": [
       "<div>\n",
       "<style scoped>\n",
       "    .dataframe tbody tr th:only-of-type {\n",
       "        vertical-align: middle;\n",
       "    }\n",
       "\n",
       "    .dataframe tbody tr th {\n",
       "        vertical-align: top;\n",
       "    }\n",
       "\n",
       "    .dataframe thead th {\n",
       "        text-align: right;\n",
       "    }\n",
       "</style>\n",
       "<table border=\"1\" class=\"dataframe\">\n",
       "  <thead>\n",
       "    <tr style=\"text-align: right;\">\n",
       "      <th></th>\n",
       "      <th>genre_id</th>\n",
       "      <th>genre_name</th>\n",
       "      <th>title</th>\n",
       "      <th>id</th>\n",
       "    </tr>\n",
       "  </thead>\n",
       "  <tbody>\n",
       "    <tr>\n",
       "      <th>0</th>\n",
       "      <td>12</td>\n",
       "      <td>Adventure</td>\n",
       "      <td>Avengers: Endgame</td>\n",
       "      <td>299534</td>\n",
       "    </tr>\n",
       "    <tr>\n",
       "      <th>1</th>\n",
       "      <td>878</td>\n",
       "      <td>Science Fiction</td>\n",
       "      <td>Avengers: Endgame</td>\n",
       "      <td>299534</td>\n",
       "    </tr>\n",
       "    <tr>\n",
       "      <th>2</th>\n",
       "      <td>28</td>\n",
       "      <td>Action</td>\n",
       "      <td>Avengers: Endgame</td>\n",
       "      <td>299534</td>\n",
       "    </tr>\n",
       "    <tr>\n",
       "      <th>3</th>\n",
       "      <td>28</td>\n",
       "      <td>Action</td>\n",
       "      <td>Avatar</td>\n",
       "      <td>19995</td>\n",
       "    </tr>\n",
       "    <tr>\n",
       "      <th>4</th>\n",
       "      <td>12</td>\n",
       "      <td>Adventure</td>\n",
       "      <td>Avatar</td>\n",
       "      <td>19995</td>\n",
       "    </tr>\n",
       "    <tr>\n",
       "      <th>5</th>\n",
       "      <td>14</td>\n",
       "      <td>Fantasy</td>\n",
       "      <td>Avatar</td>\n",
       "      <td>19995</td>\n",
       "    </tr>\n",
       "    <tr>\n",
       "      <th>6</th>\n",
       "      <td>878</td>\n",
       "      <td>Science Fiction</td>\n",
       "      <td>Avatar</td>\n",
       "      <td>19995</td>\n",
       "    </tr>\n",
       "    <tr>\n",
       "      <th>7</th>\n",
       "      <td>28</td>\n",
       "      <td>Action</td>\n",
       "      <td>Star Wars: The Force Awakens</td>\n",
       "      <td>140607</td>\n",
       "    </tr>\n",
       "    <tr>\n",
       "      <th>8</th>\n",
       "      <td>12</td>\n",
       "      <td>Adventure</td>\n",
       "      <td>Star Wars: The Force Awakens</td>\n",
       "      <td>140607</td>\n",
       "    </tr>\n",
       "    <tr>\n",
       "      <th>9</th>\n",
       "      <td>878</td>\n",
       "      <td>Science Fiction</td>\n",
       "      <td>Star Wars: The Force Awakens</td>\n",
       "      <td>140607</td>\n",
       "    </tr>\n",
       "    <tr>\n",
       "      <th>10</th>\n",
       "      <td>14</td>\n",
       "      <td>Fantasy</td>\n",
       "      <td>Star Wars: The Force Awakens</td>\n",
       "      <td>140607</td>\n",
       "    </tr>\n",
       "    <tr>\n",
       "      <th>11</th>\n",
       "      <td>12</td>\n",
       "      <td>Adventure</td>\n",
       "      <td>Avengers: Infinity War</td>\n",
       "      <td>299536</td>\n",
       "    </tr>\n",
       "    <tr>\n",
       "      <th>12</th>\n",
       "      <td>28</td>\n",
       "      <td>Action</td>\n",
       "      <td>Avengers: Infinity War</td>\n",
       "      <td>299536</td>\n",
       "    </tr>\n",
       "    <tr>\n",
       "      <th>13</th>\n",
       "      <td>878</td>\n",
       "      <td>Science Fiction</td>\n",
       "      <td>Avengers: Infinity War</td>\n",
       "      <td>299536</td>\n",
       "    </tr>\n",
       "    <tr>\n",
       "      <th>14</th>\n",
       "      <td>18</td>\n",
       "      <td>Drama</td>\n",
       "      <td>Titanic</td>\n",
       "      <td>597</td>\n",
       "    </tr>\n",
       "    <tr>\n",
       "      <th>15</th>\n",
       "      <td>10749</td>\n",
       "      <td>Romance</td>\n",
       "      <td>Titanic</td>\n",
       "      <td>597</td>\n",
       "    </tr>\n",
       "    <tr>\n",
       "      <th>16</th>\n",
       "      <td>53</td>\n",
       "      <td>Thriller</td>\n",
       "      <td>Titanic</td>\n",
       "      <td>597</td>\n",
       "    </tr>\n",
       "    <tr>\n",
       "      <th>17</th>\n",
       "      <td>28</td>\n",
       "      <td>Action</td>\n",
       "      <td>Jurassic World</td>\n",
       "      <td>135397</td>\n",
       "    </tr>\n",
       "    <tr>\n",
       "      <th>18</th>\n",
       "      <td>12</td>\n",
       "      <td>Adventure</td>\n",
       "      <td>Jurassic World</td>\n",
       "      <td>135397</td>\n",
       "    </tr>\n",
       "    <tr>\n",
       "      <th>19</th>\n",
       "      <td>878</td>\n",
       "      <td>Science Fiction</td>\n",
       "      <td>Jurassic World</td>\n",
       "      <td>135397</td>\n",
       "    </tr>\n",
       "    <tr>\n",
       "      <th>20</th>\n",
       "      <td>53</td>\n",
       "      <td>Thriller</td>\n",
       "      <td>Jurassic World</td>\n",
       "      <td>135397</td>\n",
       "    </tr>\n",
       "    <tr>\n",
       "      <th>21</th>\n",
       "      <td>12</td>\n",
       "      <td>Adventure</td>\n",
       "      <td>The Lion King</td>\n",
       "      <td>420818</td>\n",
       "    </tr>\n",
       "    <tr>\n",
       "      <th>22</th>\n",
       "      <td>10751</td>\n",
       "      <td>Family</td>\n",
       "      <td>The Lion King</td>\n",
       "      <td>420818</td>\n",
       "    </tr>\n",
       "    <tr>\n",
       "      <th>23</th>\n",
       "      <td>878</td>\n",
       "      <td>Science Fiction</td>\n",
       "      <td>The Avengers</td>\n",
       "      <td>24428</td>\n",
       "    </tr>\n",
       "    <tr>\n",
       "      <th>24</th>\n",
       "      <td>28</td>\n",
       "      <td>Action</td>\n",
       "      <td>The Avengers</td>\n",
       "      <td>24428</td>\n",
       "    </tr>\n",
       "    <tr>\n",
       "      <th>25</th>\n",
       "      <td>12</td>\n",
       "      <td>Adventure</td>\n",
       "      <td>The Avengers</td>\n",
       "      <td>24428</td>\n",
       "    </tr>\n",
       "    <tr>\n",
       "      <th>26</th>\n",
       "      <td>28</td>\n",
       "      <td>Action</td>\n",
       "      <td>Furious 7</td>\n",
       "      <td>168259</td>\n",
       "    </tr>\n",
       "    <tr>\n",
       "      <th>27</th>\n",
       "      <td>53</td>\n",
       "      <td>Thriller</td>\n",
       "      <td>Furious 7</td>\n",
       "      <td>168259</td>\n",
       "    </tr>\n",
       "    <tr>\n",
       "      <th>28</th>\n",
       "      <td>28</td>\n",
       "      <td>Action</td>\n",
       "      <td>Avengers: Age of Ultron</td>\n",
       "      <td>99861</td>\n",
       "    </tr>\n",
       "    <tr>\n",
       "      <th>29</th>\n",
       "      <td>12</td>\n",
       "      <td>Adventure</td>\n",
       "      <td>Avengers: Age of Ultron</td>\n",
       "      <td>99861</td>\n",
       "    </tr>\n",
       "    <tr>\n",
       "      <th>30</th>\n",
       "      <td>878</td>\n",
       "      <td>Science Fiction</td>\n",
       "      <td>Avengers: Age of Ultron</td>\n",
       "      <td>99861</td>\n",
       "    </tr>\n",
       "    <tr>\n",
       "      <th>31</th>\n",
       "      <td>28</td>\n",
       "      <td>Action</td>\n",
       "      <td>Black Panther</td>\n",
       "      <td>284054</td>\n",
       "    </tr>\n",
       "    <tr>\n",
       "      <th>32</th>\n",
       "      <td>12</td>\n",
       "      <td>Adventure</td>\n",
       "      <td>Black Panther</td>\n",
       "      <td>284054</td>\n",
       "    </tr>\n",
       "    <tr>\n",
       "      <th>33</th>\n",
       "      <td>14</td>\n",
       "      <td>Fantasy</td>\n",
       "      <td>Black Panther</td>\n",
       "      <td>284054</td>\n",
       "    </tr>\n",
       "    <tr>\n",
       "      <th>34</th>\n",
       "      <td>878</td>\n",
       "      <td>Science Fiction</td>\n",
       "      <td>Black Panther</td>\n",
       "      <td>284054</td>\n",
       "    </tr>\n",
       "    <tr>\n",
       "      <th>35</th>\n",
       "      <td>14</td>\n",
       "      <td>Fantasy</td>\n",
       "      <td>Harry Potter and the Deathly Hallows: Part 2</td>\n",
       "      <td>12445</td>\n",
       "    </tr>\n",
       "    <tr>\n",
       "      <th>36</th>\n",
       "      <td>12</td>\n",
       "      <td>Adventure</td>\n",
       "      <td>Harry Potter and the Deathly Hallows: Part 2</td>\n",
       "      <td>12445</td>\n",
       "    </tr>\n",
       "    <tr>\n",
       "      <th>37</th>\n",
       "      <td>14</td>\n",
       "      <td>Fantasy</td>\n",
       "      <td>Star Wars: The Last Jedi</td>\n",
       "      <td>181808</td>\n",
       "    </tr>\n",
       "    <tr>\n",
       "      <th>38</th>\n",
       "      <td>12</td>\n",
       "      <td>Adventure</td>\n",
       "      <td>Star Wars: The Last Jedi</td>\n",
       "      <td>181808</td>\n",
       "    </tr>\n",
       "    <tr>\n",
       "      <th>39</th>\n",
       "      <td>878</td>\n",
       "      <td>Science Fiction</td>\n",
       "      <td>Star Wars: The Last Jedi</td>\n",
       "      <td>181808</td>\n",
       "    </tr>\n",
       "    <tr>\n",
       "      <th>40</th>\n",
       "      <td>28</td>\n",
       "      <td>Action</td>\n",
       "      <td>Star Wars: The Last Jedi</td>\n",
       "      <td>181808</td>\n",
       "    </tr>\n",
       "    <tr>\n",
       "      <th>41</th>\n",
       "      <td>16</td>\n",
       "      <td>Animation</td>\n",
       "      <td>Frozen II</td>\n",
       "      <td>330457</td>\n",
       "    </tr>\n",
       "    <tr>\n",
       "      <th>42</th>\n",
       "      <td>10751</td>\n",
       "      <td>Family</td>\n",
       "      <td>Frozen II</td>\n",
       "      <td>330457</td>\n",
       "    </tr>\n",
       "    <tr>\n",
       "      <th>43</th>\n",
       "      <td>12</td>\n",
       "      <td>Adventure</td>\n",
       "      <td>Frozen II</td>\n",
       "      <td>330457</td>\n",
       "    </tr>\n",
       "    <tr>\n",
       "      <th>44</th>\n",
       "      <td>28</td>\n",
       "      <td>Action</td>\n",
       "      <td>Jurassic World: Fallen Kingdom</td>\n",
       "      <td>351286</td>\n",
       "    </tr>\n",
       "    <tr>\n",
       "      <th>45</th>\n",
       "      <td>12</td>\n",
       "      <td>Adventure</td>\n",
       "      <td>Jurassic World: Fallen Kingdom</td>\n",
       "      <td>351286</td>\n",
       "    </tr>\n",
       "    <tr>\n",
       "      <th>46</th>\n",
       "      <td>878</td>\n",
       "      <td>Science Fiction</td>\n",
       "      <td>Jurassic World: Fallen Kingdom</td>\n",
       "      <td>351286</td>\n",
       "    </tr>\n",
       "    <tr>\n",
       "      <th>47</th>\n",
       "      <td>16</td>\n",
       "      <td>Animation</td>\n",
       "      <td>Frozen</td>\n",
       "      <td>109445</td>\n",
       "    </tr>\n",
       "    <tr>\n",
       "      <th>48</th>\n",
       "      <td>12</td>\n",
       "      <td>Adventure</td>\n",
       "      <td>Frozen</td>\n",
       "      <td>109445</td>\n",
       "    </tr>\n",
       "    <tr>\n",
       "      <th>49</th>\n",
       "      <td>10751</td>\n",
       "      <td>Family</td>\n",
       "      <td>Frozen</td>\n",
       "      <td>109445</td>\n",
       "    </tr>\n",
       "    <tr>\n",
       "      <th>50</th>\n",
       "      <td>10751</td>\n",
       "      <td>Family</td>\n",
       "      <td>Beauty and the Beast</td>\n",
       "      <td>321612</td>\n",
       "    </tr>\n",
       "    <tr>\n",
       "      <th>51</th>\n",
       "      <td>14</td>\n",
       "      <td>Fantasy</td>\n",
       "      <td>Beauty and the Beast</td>\n",
       "      <td>321612</td>\n",
       "    </tr>\n",
       "    <tr>\n",
       "      <th>52</th>\n",
       "      <td>10749</td>\n",
       "      <td>Romance</td>\n",
       "      <td>Beauty and the Beast</td>\n",
       "      <td>321612</td>\n",
       "    </tr>\n",
       "    <tr>\n",
       "      <th>53</th>\n",
       "      <td>28</td>\n",
       "      <td>Action</td>\n",
       "      <td>Incredibles 2</td>\n",
       "      <td>260513</td>\n",
       "    </tr>\n",
       "    <tr>\n",
       "      <th>54</th>\n",
       "      <td>12</td>\n",
       "      <td>Adventure</td>\n",
       "      <td>Incredibles 2</td>\n",
       "      <td>260513</td>\n",
       "    </tr>\n",
       "    <tr>\n",
       "      <th>55</th>\n",
       "      <td>16</td>\n",
       "      <td>Animation</td>\n",
       "      <td>Incredibles 2</td>\n",
       "      <td>260513</td>\n",
       "    </tr>\n",
       "    <tr>\n",
       "      <th>56</th>\n",
       "      <td>10751</td>\n",
       "      <td>Family</td>\n",
       "      <td>Incredibles 2</td>\n",
       "      <td>260513</td>\n",
       "    </tr>\n",
       "  </tbody>\n",
       "</table>\n",
       "</div>"
      ],
      "text/plain": [
       "    genre_id       genre_name                                         title  \\\n",
       "0         12        Adventure                             Avengers: Endgame   \n",
       "1        878  Science Fiction                             Avengers: Endgame   \n",
       "2         28           Action                             Avengers: Endgame   \n",
       "3         28           Action                                        Avatar   \n",
       "4         12        Adventure                                        Avatar   \n",
       "5         14          Fantasy                                        Avatar   \n",
       "6        878  Science Fiction                                        Avatar   \n",
       "7         28           Action                  Star Wars: The Force Awakens   \n",
       "8         12        Adventure                  Star Wars: The Force Awakens   \n",
       "9        878  Science Fiction                  Star Wars: The Force Awakens   \n",
       "10        14          Fantasy                  Star Wars: The Force Awakens   \n",
       "11        12        Adventure                        Avengers: Infinity War   \n",
       "12        28           Action                        Avengers: Infinity War   \n",
       "13       878  Science Fiction                        Avengers: Infinity War   \n",
       "14        18            Drama                                       Titanic   \n",
       "15     10749          Romance                                       Titanic   \n",
       "16        53         Thriller                                       Titanic   \n",
       "17        28           Action                                Jurassic World   \n",
       "18        12        Adventure                                Jurassic World   \n",
       "19       878  Science Fiction                                Jurassic World   \n",
       "20        53         Thriller                                Jurassic World   \n",
       "21        12        Adventure                                 The Lion King   \n",
       "22     10751           Family                                 The Lion King   \n",
       "23       878  Science Fiction                                  The Avengers   \n",
       "24        28           Action                                  The Avengers   \n",
       "25        12        Adventure                                  The Avengers   \n",
       "26        28           Action                                     Furious 7   \n",
       "27        53         Thriller                                     Furious 7   \n",
       "28        28           Action                       Avengers: Age of Ultron   \n",
       "29        12        Adventure                       Avengers: Age of Ultron   \n",
       "30       878  Science Fiction                       Avengers: Age of Ultron   \n",
       "31        28           Action                                 Black Panther   \n",
       "32        12        Adventure                                 Black Panther   \n",
       "33        14          Fantasy                                 Black Panther   \n",
       "34       878  Science Fiction                                 Black Panther   \n",
       "35        14          Fantasy  Harry Potter and the Deathly Hallows: Part 2   \n",
       "36        12        Adventure  Harry Potter and the Deathly Hallows: Part 2   \n",
       "37        14          Fantasy                      Star Wars: The Last Jedi   \n",
       "38        12        Adventure                      Star Wars: The Last Jedi   \n",
       "39       878  Science Fiction                      Star Wars: The Last Jedi   \n",
       "40        28           Action                      Star Wars: The Last Jedi   \n",
       "41        16        Animation                                     Frozen II   \n",
       "42     10751           Family                                     Frozen II   \n",
       "43        12        Adventure                                     Frozen II   \n",
       "44        28           Action                Jurassic World: Fallen Kingdom   \n",
       "45        12        Adventure                Jurassic World: Fallen Kingdom   \n",
       "46       878  Science Fiction                Jurassic World: Fallen Kingdom   \n",
       "47        16        Animation                                        Frozen   \n",
       "48        12        Adventure                                        Frozen   \n",
       "49     10751           Family                                        Frozen   \n",
       "50     10751           Family                          Beauty and the Beast   \n",
       "51        14          Fantasy                          Beauty and the Beast   \n",
       "52     10749          Romance                          Beauty and the Beast   \n",
       "53        28           Action                                 Incredibles 2   \n",
       "54        12        Adventure                                 Incredibles 2   \n",
       "55        16        Animation                                 Incredibles 2   \n",
       "56     10751           Family                                 Incredibles 2   \n",
       "\n",
       "        id  \n",
       "0   299534  \n",
       "1   299534  \n",
       "2   299534  \n",
       "3    19995  \n",
       "4    19995  \n",
       "5    19995  \n",
       "6    19995  \n",
       "7   140607  \n",
       "8   140607  \n",
       "9   140607  \n",
       "10  140607  \n",
       "11  299536  \n",
       "12  299536  \n",
       "13  299536  \n",
       "14     597  \n",
       "15     597  \n",
       "16     597  \n",
       "17  135397  \n",
       "18  135397  \n",
       "19  135397  \n",
       "20  135397  \n",
       "21  420818  \n",
       "22  420818  \n",
       "23   24428  \n",
       "24   24428  \n",
       "25   24428  \n",
       "26  168259  \n",
       "27  168259  \n",
       "28   99861  \n",
       "29   99861  \n",
       "30   99861  \n",
       "31  284054  \n",
       "32  284054  \n",
       "33  284054  \n",
       "34  284054  \n",
       "35   12445  \n",
       "36   12445  \n",
       "37  181808  \n",
       "38  181808  \n",
       "39  181808  \n",
       "40  181808  \n",
       "41  330457  \n",
       "42  330457  \n",
       "43  330457  \n",
       "44  351286  \n",
       "45  351286  \n",
       "46  351286  \n",
       "47  109445  \n",
       "48  109445  \n",
       "49  109445  \n",
       "50  321612  \n",
       "51  321612  \n",
       "52  321612  \n",
       "53  260513  \n",
       "54  260513  \n",
       "55  260513  \n",
       "56  260513  "
      ]
     },
     "execution_count": 28,
     "metadata": {},
     "output_type": "execute_result"
    }
   ],
   "source": [
    "pd.json_normalize(data = data, record_path = \"genres\", meta = [\"title\", \"id\"], record_prefix = \"genre_\")"
   ]
  },
  {
   "cell_type": "code",
   "execution_count": null,
   "metadata": {},
   "outputs": [],
   "source": []
  },
  {
   "cell_type": "markdown",
   "metadata": {},
   "source": [
    "2. __Create an account__ on https://www.themoviedb.org/"
   ]
  },
  {
   "cell_type": "markdown",
   "metadata": {},
   "source": [
    "3. Get your personal __API Key__"
   ]
  },
  {
   "cell_type": "markdown",
   "metadata": {},
   "source": [
    "4. __API-Request__ (movie module): Load all available information for the movie with __movie id = 140607__ into a Pandas DataFrame. <br> See https://developers.themoviedb.org/3/movies/get-movie-details for more information"
   ]
  },
  {
   "cell_type": "code",
   "execution_count": null,
   "metadata": {},
   "outputs": [],
   "source": []
  },
  {
   "cell_type": "markdown",
   "metadata": {},
   "source": [
    "## Working with APIs and JSON (Part 2)"
   ]
  },
  {
   "cell_type": "markdown",
   "metadata": {},
   "source": [
    "5. __API-Request__ (discover module): Load all movies with __release date between 2020-01-01 and 2020-02-29__ into a Pandas DataFrame. <br>\n",
    "See https://www.themoviedb.org/documentation/api/discover and https://developers.themoviedb.org/3/discover/movie-discover for more information."
   ]
  },
  {
   "cell_type": "code",
   "execution_count": null,
   "metadata": {},
   "outputs": [],
   "source": []
  },
  {
   "cell_type": "markdown",
   "metadata": {},
   "source": [
    "##  Importing and Saving the Movies Dataset (Best Practice)"
   ]
  },
  {
   "cell_type": "markdown",
   "metadata": {},
   "source": [
    "6. __API-Request__ (movie module): Load all available information for the movies with movie id = [__299534, 19995, 140607, 299536, 597, 135397, 420818, 24428, 168259, 99861, 284054, 12445, 181808, 330457, 351286, 109445, 321612, 260513__] into a Pandas DataFrame and __save the dataset in a local json file__."
   ]
  },
  {
   "cell_type": "code",
   "execution_count": null,
   "metadata": {},
   "outputs": [],
   "source": []
  },
  {
   "cell_type": "markdown",
   "metadata": {},
   "source": [
    "# +++++++++ See some Hints below +++++++++++++"
   ]
  },
  {
   "cell_type": "code",
   "execution_count": null,
   "metadata": {},
   "outputs": [],
   "source": []
  },
  {
   "cell_type": "code",
   "execution_count": null,
   "metadata": {},
   "outputs": [],
   "source": []
  },
  {
   "cell_type": "code",
   "execution_count": null,
   "metadata": {},
   "outputs": [],
   "source": []
  },
  {
   "cell_type": "code",
   "execution_count": null,
   "metadata": {},
   "outputs": [],
   "source": []
  },
  {
   "cell_type": "code",
   "execution_count": null,
   "metadata": {},
   "outputs": [],
   "source": []
  },
  {
   "cell_type": "markdown",
   "metadata": {},
   "source": [
    "# ++++++++++++++ Hints +++++++++++++++++++++"
   ]
  },
  {
   "cell_type": "markdown",
   "metadata": {},
   "source": [
    "__Hints for 1.__ <br>\n",
    "To load json files you can use "
   ]
  },
  {
   "cell_type": "code",
   "execution_count": null,
   "metadata": {},
   "outputs": [],
   "source": [
    "with open(\"filename.json\") as f:\n",
    "    data = json.load(f)"
   ]
  },
  {
   "cell_type": "markdown",
   "metadata": {},
   "source": [
    "and "
   ]
  },
  {
   "cell_type": "code",
   "execution_count": null,
   "metadata": {},
   "outputs": [],
   "source": [
    "pd.DataFrame(data), pd.read_json(filename.json), pd.json_normalize(data)"
   ]
  },
  {
   "cell_type": "markdown",
   "metadata": {},
   "source": [
    "the json files have the following orientation (important when using pd.read_json()):\n",
    "- blockbusters.json -> record\n",
    "- blockbusters2.json -> column\n",
    "- blockbusters3.json -> split "
   ]
  },
  {
   "cell_type": "code",
   "execution_count": null,
   "metadata": {},
   "outputs": [],
   "source": []
  },
  {
   "cell_type": "markdown",
   "metadata": {},
   "source": [
    "__Hints for 4., 5., 6.__<br>\n",
    "Make API GET-requests with the library requests (import requests):"
   ]
  },
  {
   "cell_type": "code",
   "execution_count": null,
   "metadata": {},
   "outputs": [],
   "source": [
    "data = requests.get(url).json()"
   ]
  },
  {
   "cell_type": "markdown",
   "metadata": {},
   "source": [
    "__Hints for 4. and 6.,__ <br> url structure for movie module:"
   ]
  },
  {
   "cell_type": "markdown",
   "metadata": {},
   "source": [
    "\"https://api.themoviedb.org/3/movie/insert_movie_id?api_key=insert_api_key\" (replace \"insert_movie_id\" with movie id and \"insert_api_key\" with your personal api-key)"
   ]
  },
  {
   "cell_type": "markdown",
   "metadata": {},
   "source": [
    "__Hints for 5.__<br>\n",
    "url structure for discover module:"
   ]
  },
  {
   "cell_type": "markdown",
   "metadata": {},
   "source": [
    "\"https://api.themoviedb.org/3/discover/movie?api_key=insert_api_key&query1&query2...\" (replace \"insert_api_key\" with your personal api-key and add appropriate queries)"
   ]
  },
  {
   "cell_type": "code",
   "execution_count": null,
   "metadata": {},
   "outputs": [],
   "source": []
  }
 ],
 "metadata": {
  "kernelspec": {
   "display_name": "Python 3",
   "language": "python",
   "name": "python3"
  },
  "language_info": {
   "codemirror_mode": {
    "name": "ipython",
    "version": 3
   },
   "file_extension": ".py",
   "mimetype": "text/x-python",
   "name": "python",
   "nbconvert_exporter": "python",
   "pygments_lexer": "ipython3",
   "version": "3.8.8"
  }
 },
 "nbformat": 4,
 "nbformat_minor": 2
}
